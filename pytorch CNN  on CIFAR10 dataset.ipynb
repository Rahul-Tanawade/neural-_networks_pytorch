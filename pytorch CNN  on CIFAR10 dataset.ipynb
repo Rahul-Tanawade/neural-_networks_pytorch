{
  "nbformat": 4,
  "nbformat_minor": 0,
  "metadata": {
    "colab": {
      "name": "GIT HUB CNN.ipynb",
      "provenance": [],
      "collapsed_sections": [],
      "authorship_tag": "ABX9TyPtf9mUg9Zg1rFGcl8DgluG"
    },
    "kernelspec": {
      "name": "python3",
      "display_name": "Python 3"
    },
    "language_info": {
      "name": "python"
    }
  },
  "cells": [
    {
      "cell_type": "code",
      "metadata": {
        "id": "UWUI6yiPqZYu"
      },
      "source": [
        "import torch\n",
        "import torch.nn as nn\n",
        "import torchvision\n",
        "import torchvision.transforms as transforms\n",
        "import torch.nn.functional as F\n"
      ],
      "execution_count": 3,
      "outputs": []
    },
    {
      "cell_type": "code",
      "metadata": {
        "id": "Mq81tDNUq1Hl"
      },
      "source": [
        "num_epocs=4\n",
        "batch_size=4\n",
        "learning_rate=0.001"
      ],
      "execution_count": 4,
      "outputs": []
    },
    {
      "cell_type": "code",
      "metadata": {
        "id": "8pXeA4bQq7-I"
      },
      "source": [
        "# dataset has PILImage images of range [0, 1]. \n",
        "# We transform them to Tensors of normalized range [-1, 1]\n",
        "transform = transforms.Compose(\n",
        "    [transforms.ToTensor(),\n",
        "     transforms.Normalize((0.5, 0.5, 0.5), (0.5, 0.5, 0.5))])"
      ],
      "execution_count": 16,
      "outputs": []
    },
    {
      "cell_type": "code",
      "metadata": {
        "colab": {
          "base_uri": "https://localhost:8080/"
        },
        "id": "mLHftl6cs5HS",
        "outputId": "95f02928-3384-45c4-9e6a-6779f9c392f7"
      },
      "source": [
        "#importing dataset\n",
        "train_dataset=torchvision.datasets.CIFAR10(root='./data',train=True,download=True,transform=transform)\n",
        "test_dataset=torchvision.datasets.CIFAR10(root='./data',train=False,download=True,transform=transform)"
      ],
      "execution_count": 17,
      "outputs": [
        {
          "output_type": "stream",
          "text": [
            "Files already downloaded and verified\n",
            "Files already downloaded and verified\n"
          ],
          "name": "stdout"
        }
      ]
    },
    {
      "cell_type": "code",
      "metadata": {
        "id": "TryTPYygtpEl"
      },
      "source": [
        "#transforming to pytorch DataLoader\n",
        "train_loader=torch.utils.data.DataLoader(train_dataset,batch_size=batch_size,shuffle=True)\n",
        "test_loader=torch.utils.data.DataLoader(test_dataset,batch_size=batch_size,shuffle=False)"
      ],
      "execution_count": 19,
      "outputs": []
    },
    {
      "cell_type": "code",
      "metadata": {
        "id": "vL82HrL_uE22"
      },
      "source": [
        "classes=['plane','car','bird','cat','deer','dog','frog','horde','shop','truck']\n"
      ],
      "execution_count": 18,
      "outputs": []
    },
    {
      "cell_type": "code",
      "metadata": {
        "id": "ajoQDpSmuzDx"
      },
      "source": [
        "#defining class\n",
        "class ConvNet(nn.Module):\n",
        "  def __init__(self):\n",
        "    super(ConvNet,self).__init__()\n",
        "    self.conv1= nn.Conv2d(3,6,5)# 3 is due RGB image, 5 is kernel or filter size and 6 is number of diferent filters used \n",
        "    self.pool=nn.MaxPool2d(2,2)#kernel size and stride\n",
        "    self.conv2=nn.Conv2d(6,16,5)\n",
        "    self.fc1=nn.Linear(16 * 5 * 5,120)\n",
        "    self.fc1=nn.Linear(120,84)\n",
        "    self.fc3=nn.Linear(84,10)# 10 as we have 10 clasees\n",
        "\n",
        "\n",
        "\n",
        "  def forward(self,x):\n",
        "        # -> n, 3, 32, 32\n",
        "        x = self.pool(F.relu(self.conv1(x)))  # -> n, 6, 14, 14\n",
        "        x = self.pool(F.relu(self.conv2(x)))  # -> n, 16, 5, 5\n",
        "        x = x.view(-1, 16 * 5 * 5)            # -> n, 400\n",
        "        x = F.relu(self.fc1(x))               # -> n, 120\n",
        "        x = F.relu(self.fc2(x))               # -> n, 84\n",
        "        x = self.fc3(x)                       # -> n, 10\n",
        "        return x\n",
        "\n",
        "#torch.nn.Conv2d(in_channels, out_channels, kernel_size)\n",
        "#in_channels (int) – Number of channels in the input image\n",
        "#out_channels (int) – Number of channels produced by the convolution\n",
        "#kernel_size (int or tuple) – Size of the convolving kernel\n",
        "\n",
        "model=ConvNet()"
      ],
      "execution_count": 20,
      "outputs": []
    },
    {
      "cell_type": "code",
      "metadata": {
        "id": "D4xi00VGvC4L"
      },
      "source": [
        "#defining loss and optimizer\n",
        "criterion=nn.CrossEntropyLoss()\n",
        "optimizer=torch.optim.SGD(model.parameters(),lr=learning_rate)\n"
      ],
      "execution_count": 23,
      "outputs": []
    },
    {
      "cell_type": "code",
      "metadata": {
        "id": "ozq0SOySvxzU"
      },
      "source": [
        "#training started\n",
        "\n",
        "num_epochs = 5\n",
        "batch_size = 4\n",
        "learning_rate = 0.001\n",
        "\n",
        "for epoch in range(num_epochs):\n",
        "  for i , (images,labels) in enumerate(train_loader):\n",
        "\n",
        "    #forward pass\n",
        "    outputs=model(images)\n",
        "    loss= criterion(outputs, lables)\n",
        "\n",
        "    #backward and optimise\n",
        "    optimizer.zero_grad()\n",
        "    loss.backward()\n",
        "    optimizer.step()\n",
        "\n",
        "\n",
        "print(\"training finished\")"
      ],
      "execution_count": null,
      "outputs": []
    },
    {
      "cell_type": "code",
      "metadata": {
        "id": "ru-ez1Z7wby0"
      },
      "source": [
        "#testing\n",
        "\n",
        "with torch.no_grad()\n",
        " n_correct=0\n",
        " n_samples=0\n",
        "\n",
        " n_class_correct=[0 for i in range(10)]\n",
        " n_class_samples=[0 for i in range(10)]\n",
        "\n",
        " for images, labels in test_loader:\n",
        "   outputs=model(images)\n",
        "   #(value,index)\n",
        "   _,predicted = torch.max(outputs,1)\n",
        "   n_samples=labels.size(0)\n",
        "   n_correct=(predicted == labels).sum().item()\n",
        "\n",
        "   for i in range(batch_size):\n",
        "     label=labels[i]\n",
        "     pred=predictd[i]\n",
        "\n",
        "     if (label == pred)\n",
        "        n_class_correct[label] += 1\n",
        "     n_class_samples[label] += 1\n",
        "\n",
        "\n",
        " acc = 100.0 * n_correct / n_samples\n",
        " print(f'Accuracy of the network: {acc} %')   \n",
        "\n",
        " for i in range(10):\n",
        "        acc = 100.0 * n_class_correct[i] / n_class_samples[i]\n",
        "        print(f'Accuracy of {classes[i]}: {acc} %')   \n",
        "      "
      ],
      "execution_count": null,
      "outputs": []
    },
    {
      "cell_type": "code",
      "metadata": {
        "colab": {
          "base_uri": "https://localhost:8080/",
          "height": 920
        },
        "id": "XKBaOVNaTb_o",
        "outputId": "d1cf63ff-88f0-4e9f-d068-cde237b93ba8"
      },
      "source": [
        "#combing everything into one, below has given not good accuracy, we need to tune hyperparameters in better way.\n",
        "import torch\n",
        "import torch.nn as nn\n",
        "import torch.nn.functional as F\n",
        "import torchvision\n",
        "import torchvision.transforms as transforms\n",
        "import matplotlib.pyplot as plt\n",
        "import numpy as np\n",
        "\n",
        "# Device configuration\n",
        "device = torch.device('cuda' if torch.cuda.is_available() else 'cpu')\n",
        "\n",
        "# Hyper-parameters \n",
        "num_epochs = 5\n",
        "batch_size = 4\n",
        "learning_rate = 0.001\n",
        "\n",
        "# dataset has PILImage images of range [0, 1]. \n",
        "# We transform them to Tensors of normalized range [-1, 1]\n",
        "transform = transforms.Compose(\n",
        "    [transforms.ToTensor(),\n",
        "     transforms.Normalize((0.5, 0.5, 0.5), (0.5, 0.5, 0.5))])\n",
        "\n",
        "# CIFAR10: 60000 32x32 color images in 10 classes, with 6000 images per class\n",
        "train_dataset = torchvision.datasets.CIFAR10(root='./data', train=True,\n",
        "                                        download=True, transform=transform)\n",
        "\n",
        "test_dataset = torchvision.datasets.CIFAR10(root='./data', train=False,\n",
        "                                       download=True, transform=transform)\n",
        "\n",
        "train_loader = torch.utils.data.DataLoader(train_dataset, batch_size=batch_size,\n",
        "                                          shuffle=True)\n",
        "\n",
        "test_loader = torch.utils.data.DataLoader(test_dataset, batch_size=batch_size,\n",
        "                                         shuffle=False)\n",
        "\n",
        "classes = ('plane', 'car', 'bird', 'cat',\n",
        "           'deer', 'dog', 'frog', 'horse', 'ship', 'truck')\n",
        "\n",
        "def imshow(img):\n",
        "    img = img / 2 + 0.5  # unnormalize\n",
        "    npimg = img.numpy()\n",
        "    plt.imshow(np.transpose(npimg, (1, 2, 0)))\n",
        "    plt.show()\n",
        "\n",
        "\n",
        "# get some random training images\n",
        "dataiter = iter(train_loader)\n",
        "images, labels = dataiter.next()\n",
        "\n",
        "# show images\n",
        "imshow(torchvision.utils.make_grid(images))\n",
        "\n",
        "class ConvNet(nn.Module):\n",
        "    def __init__(self):\n",
        "        super(ConvNet, self).__init__()\n",
        "        self.conv1 = nn.Conv2d(3, 6, 5)\n",
        "        self.pool = nn.MaxPool2d(2, 2)\n",
        "        self.conv2 = nn.Conv2d(6, 16, 5)\n",
        "        self.fc1 = nn.Linear(16 * 5 * 5, 120)\n",
        "        self.fc2 = nn.Linear(120, 84)\n",
        "        self.fc3 = nn.Linear(84, 10)\n",
        "\n",
        "    def forward(self, x):\n",
        "        # -> n, 3, 32, 32\n",
        "        x = self.pool(F.relu(self.conv1(x)))  # -> n, 6, 14, 14\n",
        "        x = self.pool(F.relu(self.conv2(x)))  # -> n, 16, 5, 5\n",
        "        x = x.view(-1, 16 * 5 * 5)            # -> n, 400\n",
        "        x = F.relu(self.fc1(x))               # -> n, 120\n",
        "        x = F.relu(self.fc2(x))               # -> n, 84\n",
        "        x = self.fc3(x)                       # -> n, 10\n",
        "        return x\n",
        "\n",
        "\n",
        "model = ConvNet().to(device)\n",
        "\n",
        "criterion = nn.CrossEntropyLoss()\n",
        "optimizer = torch.optim.SGD(model.parameters(), lr=learning_rate)\n",
        "\n",
        "n_total_steps = len(train_loader)\n",
        "for epoch in range(num_epochs):\n",
        "    for i, (images, labels) in enumerate(train_loader):\n",
        "        # origin shape: [4, 3, 32, 32] = 4, 3, 1024\n",
        "        # input_layer: 3 input channels, 6 output channels, 5 kernel size\n",
        "        images = images.to(device)\n",
        "        labels = labels.to(device)\n",
        "\n",
        "        # Forward pass\n",
        "        outputs = model(images)\n",
        "        loss = criterion(outputs, labels)\n",
        "\n",
        "        # Backward and optimize\n",
        "        optimizer.zero_grad()\n",
        "        loss.backward()\n",
        "        optimizer.step()\n",
        "\n",
        "        if (i+1) % 2000 == 0:\n",
        "            print (f'Epoch [{epoch+1}/{num_epochs}], Step [{i+1}/{n_total_steps}], Loss: {loss.item():.4f}')\n",
        "\n",
        "print('Finished Training')\n",
        "PATH = './cnn.pth'\n",
        "torch.save(model.state_dict(), PATH)\n",
        "\n",
        "with torch.no_grad():\n",
        "    n_correct = 0\n",
        "    n_samples = 0\n",
        "    n_class_correct = [0 for i in range(10)]\n",
        "    n_class_samples = [0 for i in range(10)]\n",
        "    for images, labels in test_loader:\n",
        "        images = images.to(device)\n",
        "        labels = labels.to(device)\n",
        "        outputs = model(images)\n",
        "        # max returns (value ,index)\n",
        "        _, predicted = torch.max(outputs, 1)\n",
        "        n_samples += labels.size(0)\n",
        "        n_correct += (predicted == labels).sum().item()\n",
        "        \n",
        "        for i in range(batch_size):\n",
        "            label = labels[i]\n",
        "            pred = predicted[i]\n",
        "            if (label == pred):\n",
        "                n_class_correct[label] += 1\n",
        "            n_class_samples[label] += 1\n",
        "\n",
        "    acc = 100.0 * n_correct / n_samples\n",
        "    print(f'Accuracy of the network: {acc} %')\n",
        "\n",
        "    for i in range(10):\n",
        "        acc = 100.0 * n_class_correct[i] / n_class_samples[i]\n",
        "        print(f'Accuracy of {classes[i]}: {acc} %')"
      ],
      "execution_count": 22,
      "outputs": [
        {
          "output_type": "stream",
          "text": [
            "Files already downloaded and verified\n",
            "Files already downloaded and verified\n"
          ],
          "name": "stdout"
        },
        {
          "output_type": "display_data",
          "data": {
            "image/png": "[encoded data removed]",
            "text/plain": [
              "<Figure size 432x288 with 1 Axes>"
            ]
          },
          "metadata": {
            "tags": [],
            "needs_background": "light"
          }
        },
        {
          "output_type": "stream",
          "text": [
            "Epoch [1/5], Step [2000/12500], Loss: 2.3267\n",
            "Epoch [1/5], Step [4000/12500], Loss: 2.2991\n",
            "Epoch [1/5], Step [6000/12500], Loss: 2.3130\n",
            "Epoch [1/5], Step [8000/12500], Loss: 2.2691\n",
            "Epoch [1/5], Step [10000/12500], Loss: 2.1539\n",
            "Epoch [1/5], Step [12000/12500], Loss: 2.5711\n",
            "Epoch [2/5], Step [2000/12500], Loss: 1.9469\n",
            "Epoch [2/5], Step [4000/12500], Loss: 2.0330\n",
            "Epoch [2/5], Step [6000/12500], Loss: 2.1498\n",
            "Epoch [2/5], Step [8000/12500], Loss: 1.6418\n",
            "Epoch [2/5], Step [10000/12500], Loss: 1.5315\n",
            "Epoch [2/5], Step [12000/12500], Loss: 2.7097\n",
            "Epoch [3/5], Step [2000/12500], Loss: 1.8768\n",
            "Epoch [3/5], Step [4000/12500], Loss: 1.2910\n",
            "Epoch [3/5], Step [6000/12500], Loss: 1.0783\n",
            "Epoch [3/5], Step [8000/12500], Loss: 1.3493\n",
            "Epoch [3/5], Step [10000/12500], Loss: 2.2064\n",
            "Epoch [3/5], Step [12000/12500], Loss: 1.0911\n",
            "Epoch [4/5], Step [2000/12500], Loss: 1.0489\n",
            "Epoch [4/5], Step [4000/12500], Loss: 2.2961\n",
            "Epoch [4/5], Step [6000/12500], Loss: 2.1572\n",
            "Epoch [4/5], Step [8000/12500], Loss: 1.0439\n",
            "Epoch [4/5], Step [10000/12500], Loss: 2.4367\n",
            "Epoch [4/5], Step [12000/12500], Loss: 1.7434\n",
            "Epoch [5/5], Step [2000/12500], Loss: 1.9966\n",
            "Epoch [5/5], Step [4000/12500], Loss: 1.0455\n",
            "Epoch [5/5], Step [6000/12500], Loss: 0.6304\n",
            "Epoch [5/5], Step [8000/12500], Loss: 1.5304\n",
            "Epoch [5/5], Step [10000/12500], Loss: 1.6736\n",
            "Epoch [5/5], Step [12000/12500], Loss: 0.7845\n",
            "Finished Training\n",
            "Accuracy of the network: 48.64 %\n",
            "Accuracy of plane: 50.2 %\n",
            "Accuracy of car: 64.9 %\n",
            "Accuracy of bird: 23.0 %\n",
            "Accuracy of cat: 45.0 %\n",
            "Accuracy of deer: 36.8 %\n",
            "Accuracy of dog: 47.3 %\n",
            "Accuracy of frog: 47.4 %\n",
            "Accuracy of horse: 56.3 %\n",
            "Accuracy of ship: 69.8 %\n",
            "Accuracy of truck: 45.7 %\n"
          ],
          "name": "stdout"
        }
      ]
    }
  ]
}
